{
 "cells": [
  {
   "cell_type": "code",
   "execution_count": 109,
   "metadata": {},
   "outputs": [],
   "source": [
    "import numpy as np\n",
    "import gymnasium as gym\n",
    "import torch \n",
    "\n",
    "NUM_ENVS = 5\n",
    "env = gym.make_vec(\"CartPole-v1\", num_envs=5)\n",
    "\n",
    "def rtg(rewards):\n",
    "    N = len(rewards)\n",
    "    rtg = np.zeros_like(rewards)\n",
    "    for i in reversed(range(N)):\n",
    "        rtg[i] = rewards[i] + (rtg[i+1] if i+1<N else 0)\n",
    "    return list(rtg)\n",
    "\n",
    "def parallel_rtg(rewards, dones, gamma):\n",
    "    N = len(rewards)\n",
    "    mask = (~np.array(dones)).astype(np.float32)\n",
    "    out = np.zeros_like(rewards)\n",
    "    for i in reversed(range(N)):\n",
    "        out[i] = (rewards[i] + gamma*(out[i+1] if i+1 < N else 0)) * mask[i]\n",
    "    return out"
   ]
  },
  {
   "cell_type": "code",
   "execution_count": 241,
   "metadata": {},
   "outputs": [
    {
     "ename": "TypeError",
     "evalue": "bad operand type for unary ~: 'list'",
     "output_type": "error",
     "traceback": [
      "\u001b[0;31m---------------------------------------------------------------------------\u001b[0m",
      "\u001b[0;31mTypeError\u001b[0m                                 Traceback (most recent call last)",
      "Cell \u001b[0;32mIn[241], line 10\u001b[0m\n\u001b[1;32m      7\u001b[0m     ep_rew\u001b[38;5;241m.\u001b[39mappend(rewards)\n\u001b[1;32m      8\u001b[0m     ep_dones\u001b[38;5;241m.\u001b[39mappend(dones)\n\u001b[0;32m---> 10\u001b[0m \u001b[43mparallel_rtg\u001b[49m\u001b[43m(\u001b[49m\u001b[43mep_rew\u001b[49m\u001b[43m,\u001b[49m\u001b[43m \u001b[49m\u001b[43mep_dones\u001b[49m\u001b[43m,\u001b[49m\u001b[43m \u001b[49m\u001b[38;5;241;43m1\u001b[39;49m\u001b[43m)\u001b[49m\n\u001b[1;32m     12\u001b[0m \u001b[38;5;66;03m# ep_rew, ep_dones, ep_rtg\u001b[39;00m\n\u001b[1;32m     13\u001b[0m \n\u001b[1;32m     14\u001b[0m \u001b[38;5;66;03m# for i in range(N):\u001b[39;00m\n\u001b[1;32m     15\u001b[0m \u001b[38;5;66;03m#     done = ep_dones[i]\u001b[39;00m\n\u001b[1;32m     16\u001b[0m \u001b[38;5;66;03m#     # print(~)\u001b[39;00m\n",
      "Cell \u001b[0;32mIn[109], line 20\u001b[0m, in \u001b[0;36mparallel_rtg\u001b[0;34m(rewards, dones, gamma)\u001b[0m\n\u001b[1;32m     18\u001b[0m N \u001b[38;5;241m=\u001b[39m \u001b[38;5;28mlen\u001b[39m(rewards)\n\u001b[1;32m     19\u001b[0m returns \u001b[38;5;241m=\u001b[39m np\u001b[38;5;241m.\u001b[39mzeros_like(rewards)\n\u001b[0;32m---> 20\u001b[0m \u001b[38;5;28mprint\u001b[39m(np\u001b[38;5;241m.\u001b[39marray(\u001b[38;5;241;43m~\u001b[39;49m\u001b[43mdones\u001b[49m))\n",
      "\u001b[0;31mTypeError\u001b[0m: bad operand type for unary ~: 'list'"
     ]
    }
   ],
   "source": [
    "states, _ = env.reset()\n",
    "ep_rew = []\n",
    "ep_dones = []\n",
    "for _ in range(20):\n",
    "    actions = env.action_space.sample()\n",
    "    states, rewards, dones, truncs, _ = env.step(actions)\n",
    "    ep_rew.append(rewards)\n",
    "    ep_dones.append(dones)\n",
    "\n",
    "parallel_rtg(ep_rew, ep_dones, 1)\n",
    "\n",
    "# ep_rew, ep_dones, ep_rtg\n",
    "\n",
    "# for i in range(N):\n",
    "#     done = ep_dones[i]\n",
    "#     # print(~)\n",
    "\n",
    "\n",
    "\n"
   ]
  },
  {
   "cell_type": "code",
   "execution_count": 195,
   "metadata": {},
   "outputs": [],
   "source": [
    "x= torch.tensor([0,0,0])"
   ]
  },
  {
   "cell_type": "code",
   "execution_count": 156,
   "metadata": {},
   "outputs": [
    {
     "ename": "TypeError",
     "evalue": "only integer scalar arrays can be converted to a scalar index",
     "output_type": "error",
     "traceback": [
      "\u001b[0;31m---------------------------------------------------------------------------\u001b[0m",
      "\u001b[0;31mTypeError\u001b[0m                                 Traceback (most recent call last)",
      "Cell \u001b[0;32mIn[156], line 4\u001b[0m\n\u001b[1;32m      1\u001b[0m x \u001b[38;5;241m=\u001b[39m np\u001b[38;5;241m.\u001b[39marray([\u001b[38;5;241m0\u001b[39m, \u001b[38;5;241m1\u001b[39m, \u001b[38;5;241m1\u001b[39m, \u001b[38;5;241m0\u001b[39m, \u001b[38;5;241m1\u001b[39m])\n\u001b[1;32m      2\u001b[0m y \u001b[38;5;241m=\u001b[39m x \u001b[38;5;241m*\u001b[39m \u001b[38;5;28mrange\u001b[39m(\u001b[38;5;28mlen\u001b[39m(x))\n\u001b[0;32m----> 4\u001b[0m \u001b[43m[\u001b[49m\u001b[43mx\u001b[49m\u001b[43m]\u001b[49m\u001b[43m[\u001b[49m\u001b[43my\u001b[49m\u001b[43m]\u001b[49m\n",
      "\u001b[0;31mTypeError\u001b[0m: only integer scalar arrays can be converted to a scalar index"
     ]
    }
   ],
   "source": [
    "x = np.array([0, 1, 1, 0, 1])\n",
    "y = x * range(len(x))\n",
    "\n",
    "\n"
   ]
  },
  {
   "cell_type": "code",
   "execution_count": 88,
   "metadata": {},
   "outputs": [
    {
     "data": {
      "text/plain": [
       "array([[False,  True,  True],\n",
       "       [ True,  True, False]])"
      ]
     },
     "execution_count": 88,
     "metadata": {},
     "output_type": "execute_result"
    }
   ],
   "source": [
    "x = np.array([[True,False,False], [False,False,True]])\n",
    "~x"
   ]
  }
 ],
 "metadata": {
  "kernelspec": {
   "display_name": "Python 3",
   "language": "python",
   "name": "python3"
  },
  "language_info": {
   "codemirror_mode": {
    "name": "ipython",
    "version": 3
   },
   "file_extension": ".py",
   "mimetype": "text/x-python",
   "name": "python",
   "nbconvert_exporter": "python",
   "pygments_lexer": "ipython3",
   "version": "3.9.6"
  }
 },
 "nbformat": 4,
 "nbformat_minor": 2
}
